{
 "cells": [
  {
   "cell_type": "code",
   "execution_count": 2,
   "metadata": {},
   "outputs": [
    {
     "name": "stdout",
     "output_type": "stream",
     "text": [
      "input shape is:  (224, 224, 3)\n",
      "(1, 32, 224, 3)\n"
     ]
    }
   ],
   "source": [
    "from layers import *\n",
    "\n",
    "\n",
    "L = ConvolutionalLayer2D(32, 3, 1, 1)\n",
    "\n",
    "X = np.load(\"../data/Training_Set/preprocessed_numpy/1.npy\")\n",
    "\n",
    "print(\"input shape is: \", X.shape)\n",
    "print(L.forward(X).shape)"
   ]
  },
  {
   "cell_type": "code",
   "execution_count": 3,
   "metadata": {},
   "outputs": [],
   "source": [
    "import numpy as np\n",
    "import pandas as pd\n",
    "import os\n",
    "from tensorflow import keras\n",
    "from tensorflow.keras import layers\n",
    "from tensorflow.keras.models import Sequential\n",
    "from tensorflow.keras.layers import Dense, Dropout, Flatten, Conv2D, MaxPooling2D\n",
    "from tensorflow.keras.preprocessing.image import ImageDataGenerator\n",
    "from tensorflow.keras.callbacks import EarlyStopping\n",
    "from sklearn.model_selection import train_test_split\n",
    "\n",
    "df_train = pd.read_csv(\"../data/Training_Set/train_labels.csv\")\n",
    "df_test = pd.read_csv(\"../data/Evaluation_set/eval_labels.csv\")"
   ]
  },
  {
   "cell_type": "code",
   "execution_count": 4,
   "metadata": {},
   "outputs": [],
   "source": [
    "## adding .npy to the end of the file name in ID column\n",
    "df_train[\"ID\"] = df_train[\"ID\"].apply(lambda x: str(x) + \".npy\")\n",
    "df_test[\"ID\"] = df_test[\"ID\"].apply(lambda x: str(x) + \".npy\")"
   ]
  },
  {
   "cell_type": "code",
   "execution_count": 5,
   "metadata": {},
   "outputs": [
    {
     "data": {
      "text/html": [
       "<div>\n",
       "<style scoped>\n",
       "    .dataframe tbody tr th:only-of-type {\n",
       "        vertical-align: middle;\n",
       "    }\n",
       "\n",
       "    .dataframe tbody tr th {\n",
       "        vertical-align: top;\n",
       "    }\n",
       "\n",
       "    .dataframe thead th {\n",
       "        text-align: right;\n",
       "    }\n",
       "</style>\n",
       "<table border=\"1\" class=\"dataframe\">\n",
       "  <thead>\n",
       "    <tr style=\"text-align: right;\">\n",
       "      <th></th>\n",
       "      <th>ID</th>\n",
       "      <th>DR</th>\n",
       "      <th>MH</th>\n",
       "      <th>TSLN</th>\n",
       "      <th>ODC</th>\n",
       "      <th>Disease_Risk</th>\n",
       "    </tr>\n",
       "  </thead>\n",
       "  <tbody>\n",
       "    <tr>\n",
       "      <th>944</th>\n",
       "      <td>1909.npy</td>\n",
       "      <td>0</td>\n",
       "      <td>0</td>\n",
       "      <td>1</td>\n",
       "      <td>0</td>\n",
       "      <td>1</td>\n",
       "    </tr>\n",
       "    <tr>\n",
       "      <th>945</th>\n",
       "      <td>1910.npy</td>\n",
       "      <td>0</td>\n",
       "      <td>0</td>\n",
       "      <td>1</td>\n",
       "      <td>0</td>\n",
       "      <td>0</td>\n",
       "    </tr>\n",
       "    <tr>\n",
       "      <th>946</th>\n",
       "      <td>1914.npy</td>\n",
       "      <td>0</td>\n",
       "      <td>0</td>\n",
       "      <td>1</td>\n",
       "      <td>0</td>\n",
       "      <td>1</td>\n",
       "    </tr>\n",
       "    <tr>\n",
       "      <th>947</th>\n",
       "      <td>1915.npy</td>\n",
       "      <td>0</td>\n",
       "      <td>0</td>\n",
       "      <td>1</td>\n",
       "      <td>0</td>\n",
       "      <td>1</td>\n",
       "    </tr>\n",
       "    <tr>\n",
       "      <th>948</th>\n",
       "      <td>1917.npy</td>\n",
       "      <td>1</td>\n",
       "      <td>0</td>\n",
       "      <td>0</td>\n",
       "      <td>0</td>\n",
       "      <td>0</td>\n",
       "    </tr>\n",
       "  </tbody>\n",
       "</table>\n",
       "</div>"
      ],
      "text/plain": [
       "           ID  DR  MH  TSLN  ODC  Disease_Risk\n",
       "944  1909.npy   0   0     1    0             1\n",
       "945  1910.npy   0   0     1    0             0\n",
       "946  1914.npy   0   0     1    0             1\n",
       "947  1915.npy   0   0     1    0             1\n",
       "948  1917.npy   1   0     0    0             0"
      ]
     },
     "execution_count": 5,
     "metadata": {},
     "output_type": "execute_result"
    }
   ],
   "source": [
    "df_train.tail()"
   ]
  },
  {
   "cell_type": "code",
   "execution_count": 6,
   "metadata": {},
   "outputs": [
    {
     "data": {
      "text/html": [
       "<div>\n",
       "<style scoped>\n",
       "    .dataframe tbody tr th:only-of-type {\n",
       "        vertical-align: middle;\n",
       "    }\n",
       "\n",
       "    .dataframe tbody tr th {\n",
       "        vertical-align: top;\n",
       "    }\n",
       "\n",
       "    .dataframe thead th {\n",
       "        text-align: right;\n",
       "    }\n",
       "</style>\n",
       "<table border=\"1\" class=\"dataframe\">\n",
       "  <thead>\n",
       "    <tr style=\"text-align: right;\">\n",
       "      <th></th>\n",
       "      <th>ID</th>\n",
       "      <th>DR</th>\n",
       "      <th>MH</th>\n",
       "      <th>TSLN</th>\n",
       "      <th>ODC</th>\n",
       "      <th>Disease_Risk</th>\n",
       "    </tr>\n",
       "  </thead>\n",
       "  <tbody>\n",
       "    <tr>\n",
       "      <th>290</th>\n",
       "      <td>608.npy</td>\n",
       "      <td>1</td>\n",
       "      <td>0</td>\n",
       "      <td>0</td>\n",
       "      <td>0</td>\n",
       "      <td>0</td>\n",
       "    </tr>\n",
       "    <tr>\n",
       "      <th>291</th>\n",
       "      <td>611.npy</td>\n",
       "      <td>0</td>\n",
       "      <td>0</td>\n",
       "      <td>1</td>\n",
       "      <td>1</td>\n",
       "      <td>0</td>\n",
       "    </tr>\n",
       "    <tr>\n",
       "      <th>292</th>\n",
       "      <td>613.npy</td>\n",
       "      <td>0</td>\n",
       "      <td>0</td>\n",
       "      <td>1</td>\n",
       "      <td>0</td>\n",
       "      <td>0</td>\n",
       "    </tr>\n",
       "    <tr>\n",
       "      <th>293</th>\n",
       "      <td>636.npy</td>\n",
       "      <td>0</td>\n",
       "      <td>0</td>\n",
       "      <td>1</td>\n",
       "      <td>0</td>\n",
       "      <td>1</td>\n",
       "    </tr>\n",
       "    <tr>\n",
       "      <th>294</th>\n",
       "      <td>637.npy</td>\n",
       "      <td>0</td>\n",
       "      <td>0</td>\n",
       "      <td>1</td>\n",
       "      <td>0</td>\n",
       "      <td>0</td>\n",
       "    </tr>\n",
       "  </tbody>\n",
       "</table>\n",
       "</div>"
      ],
      "text/plain": [
       "          ID  DR  MH  TSLN  ODC  Disease_Risk\n",
       "290  608.npy   1   0     0    0             0\n",
       "291  611.npy   0   0     1    1             0\n",
       "292  613.npy   0   0     1    0             0\n",
       "293  636.npy   0   0     1    0             1\n",
       "294  637.npy   0   0     1    0             0"
      ]
     },
     "execution_count": 6,
     "metadata": {},
     "output_type": "execute_result"
    }
   ],
   "source": [
    "df_test.tail()"
   ]
  },
  {
   "cell_type": "code",
   "execution_count": 7,
   "metadata": {},
   "outputs": [],
   "source": [
    "# creating an array X with all the files in the df id column\n",
    "\n",
    "X_train = []\n",
    "for idx, row in df_train.iterrows():\n",
    "    array = np.load(\"../data/Training_Set/preprocessed_numpy/\" + row[\"ID\"])\n",
    "    X_train.append(array)\n",
    "\n",
    "X_test = []\n",
    "for idx, row in df_test.iterrows():\n",
    "    array = np.load(\"../data/Evaluation_set/preprocessed_eval/\" + row[\"ID\"])\n",
    "    X_test.append(array)"
   ]
  },
  {
   "cell_type": "code",
   "execution_count": 8,
   "metadata": {},
   "outputs": [],
   "source": [
    "X_train = np.array(X_train)\n",
    "X_test = np.array(X_test)"
   ]
  },
  {
   "cell_type": "code",
   "execution_count": 9,
   "metadata": {},
   "outputs": [],
   "source": [
    "Y_train = df_train.drop(['ID', 'Disease_Risk'], axis=1)\n",
    "Y_train = Y_train.to_numpy()\n",
    "\n",
    "Y_test = df_test.drop(['ID', 'Disease_Risk'], axis=1)\n",
    "Y_test = Y_test.to_numpy()"
   ]
  },
  {
   "cell_type": "code",
   "execution_count": 10,
   "metadata": {},
   "outputs": [
    {
     "name": "stdout",
     "output_type": "stream",
     "text": [
      "shape of X_train is:  (949, 224, 224, 3)\n",
      "shape of Y_train is:  (949, 4)\n",
      "shape of X_test is:  (295, 224, 224, 3)\n",
      "shape of Y_test is:  (295, 4)\n"
     ]
    }
   ],
   "source": [
    "print(\"shape of X_train is: \", X_train.shape)\n",
    "print(\"shape of Y_train is: \", Y_train.shape)\n",
    "print(\"shape of X_test is: \", X_test.shape)\n",
    "print(\"shape of Y_test is: \", Y_test.shape)"
   ]
  },
  {
   "cell_type": "code",
   "execution_count": 13,
   "metadata": {},
   "outputs": [
    {
     "name": "stdout",
     "output_type": "stream",
     "text": [
      "Model: \"sequential_3\"\n",
      "_________________________________________________________________\n",
      " Layer (type)                Output Shape              Param #   \n",
      "=================================================================\n",
      " conv2d_12 (Conv2D)          (None, 222, 222, 512)     14336     \n",
      "                                                                 \n",
      " conv2d_13 (Conv2D)          (None, 220, 220, 512)     2359808   \n",
      "                                                                 \n",
      " max_pooling2d_12 (MaxPoolin  (None, 110, 110, 512)    0         \n",
      " g2D)                                                            \n",
      "                                                                 \n",
      " conv2d_14 (Conv2D)          (None, 108, 108, 256)     1179904   \n",
      "                                                                 \n",
      " conv2d_15 (Conv2D)          (None, 106, 106, 256)     590080    \n",
      "                                                                 \n",
      " conv2d_16 (Conv2D)          (None, 104, 104, 256)     590080    \n",
      "                                                                 \n",
      " max_pooling2d_13 (MaxPoolin  (None, 52, 52, 256)      0         \n",
      " g2D)                                                            \n",
      "                                                                 \n",
      " dense_6 (Dense)             (None, 52, 52, 256)       65792     \n",
      "                                                                 \n",
      " dense_7 (Dense)             (None, 52, 52, 128)       32896     \n",
      "                                                                 \n",
      " dense_8 (Dense)             (None, 52, 52, 64)        8256      \n",
      "                                                                 \n",
      " flatten_3 (Flatten)         (None, 173056)            0         \n",
      "                                                                 \n",
      " dense_9 (Dense)             (None, 4)                 692228    \n",
      "                                                                 \n",
      "=================================================================\n",
      "Total params: 5,533,380\n",
      "Trainable params: 5,533,380\n",
      "Non-trainable params: 0\n",
      "_________________________________________________________________\n",
      "Epoch 1/10\n",
      "29/29 [==============================] - 3277s 112s/step - loss: 0.6914 - accuracy: 0.3351\n",
      "Epoch 2/10\n",
      "29/29 [==============================] - 2965s 100s/step - loss: 0.6032 - accuracy: 0.4015\n",
      "Epoch 3/10\n",
      "29/29 [==============================] - 2918s 98s/step - loss: 0.5922 - accuracy: 0.4784\n",
      "Epoch 4/10\n",
      "29/29 [==============================] - 2896s 98s/step - loss: 0.5982 - accuracy: 0.4310\n",
      "Epoch 5/10\n",
      "29/29 [==============================] - 2897s 98s/step - loss: 0.5729 - accuracy: 0.5068\n",
      "Epoch 6/10\n",
      "29/29 [==============================] - 4915s 168s/step - loss: 0.5866 - accuracy: 0.4689\n",
      "Epoch 7/10\n",
      "29/29 [==============================] - 2749s 93s/step - loss: 0.5779 - accuracy: 0.4900\n",
      "Epoch 8/10\n",
      "29/29 [==============================] - 2784s 94s/step - loss: 0.5679 - accuracy: 0.5269\n",
      "Epoch 9/10\n",
      "29/29 [==============================] - 2793s 94s/step - loss: 0.5575 - accuracy: 0.5342\n",
      "Epoch 10/10\n",
      "29/29 [==============================] - 4726s 162s/step - loss: 0.5404 - accuracy: 0.5395\n",
      "10/10 [==============================] - 404s 41s/step - loss: 0.7836 - accuracy: 0.5458\n"
     ]
    },
    {
     "data": {
      "text/plain": [
       "[0.7835941910743713, 0.5457627177238464]"
      ]
     },
     "execution_count": 13,
     "metadata": {},
     "output_type": "execute_result"
    }
   ],
   "source": [
    "from keras.preprocessing.image import ImageDataGenerator\n",
    "\n",
    "datagen = ImageDataGenerator(\n",
    "    rotation_range=20,\n",
    "    width_shift_range=0.1,\n",
    "    height_shift_range=0.1,\n",
    "    shear_range=0.2,\n",
    "    zoom_range=0.2,\n",
    "    horizontal_flip=True,\n",
    "    fill_mode='nearest')\n",
    "\n",
    "datagen.fit(X_train)\n",
    "\n",
    "from keras.models import Sequential\n",
    "from keras.layers import Conv2D, MaxPooling2D, Flatten, Dense\n",
    "\n",
    "## creating a model for multi-label classification\n",
    "model = Sequential()\n",
    "model.add(Conv2D(512, (3, 3), activation='relu', input_shape=(224, 224, 3)))\n",
    "model.add(Conv2D(512, (3, 3), activation='relu'))\n",
    "model.add(MaxPooling2D((2, 2)))\n",
    "model.add(Conv2D(256, (3, 3), activation='relu'))\n",
    "model.add(Conv2D(256, (3, 3), activation='relu'))\n",
    "model.add(Conv2D(256, (3, 3), activation='relu'))\n",
    "model.add(MaxPooling2D((2, 2)))\n",
    "model.add(Dense(256, activation='relu'))\n",
    "model.add(Dense(128, activation='relu'))\n",
    "model.add(Dense(64, activation='relu'))\n",
    "model.add(Flatten())\n",
    "model.add(Dense(4, activation='sigmoid'))\n",
    "\n",
    "model.compile(loss='binary_crossentropy',\n",
    "                optimizer='adam',\n",
    "                metrics=['accuracy'])\n",
    "\n",
    "model.summary()\n",
    "\n",
    "model.fit(datagen.flow(X_train, Y_train, batch_size=32),\n",
    "                    steps_per_epoch=len(X_train) / 32, epochs=10)\n",
    "\n",
    "model.evaluate(X_test, Y_test)"
   ]
  }
 ],
 "metadata": {
  "kernelspec": {
   "display_name": "Python 3",
   "language": "python",
   "name": "python3"
  },
  "language_info": {
   "codemirror_mode": {
    "name": "ipython",
    "version": 3
   },
   "file_extension": ".py",
   "mimetype": "text/x-python",
   "name": "python",
   "nbconvert_exporter": "python",
   "pygments_lexer": "ipython3",
   "version": "3.10.9 (main, Dec 15 2022, 17:11:09) [Clang 14.0.0 (clang-1400.0.29.202)]"
  },
  "orig_nbformat": 4,
  "vscode": {
   "interpreter": {
    "hash": "b0fa6594d8f4cbf19f97940f81e996739fb7646882a419484c72d19e05852a7e"
   }
  }
 },
 "nbformat": 4,
 "nbformat_minor": 2
}
