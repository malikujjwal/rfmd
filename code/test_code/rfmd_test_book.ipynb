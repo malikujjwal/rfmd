{
 "cells": [
  {
   "cell_type": "code",
   "execution_count": 31,
   "metadata": {},
   "outputs": [],
   "source": [
    "import src.util as util\n",
    "from sklearn.model_selection import train_test_split\n",
    "import src.layers as layers\n",
    "import numpy as np\n",
    "import os\n",
    "import pandas as pd\n",
    "\n",
    "\n",
    "def load_rfmd_npy(file_loc):\n",
    "    X = []\n",
    "    for file in os.listdir(file_loc):\n",
    "            img = np.load(file_loc+file)\n",
    "            X.append(img)\n",
    "    X = np.stack(X, axis = 0)\n",
    "    return X\n",
    "\n",
    "X_train_img = load_rfmd_npy('../../data/Training_Set/preprocessed_numpy/')\n",
    "X_test_img = load_rfmd_npy('../../data/Evaluation_Set/preprocessed_eval/') #taking eval as a test right now\n",
    "\n",
    "Y_train = pd.read_csv('../../data/Training_Set/RFMiD_Training_Labels.csv')\n",
    "Y_train = np.array(Y_train['Disease_Risk']) #currently doing to for disease_risk - only binary classification\n",
    "\n",
    "Y_test = pd.read_csv('../../data/Evaluation_Set/RFMiD_Validation_Labels.csv')\n",
    "Y_test = np.array(Y_test['Disease_Risk'])#currently doing to for disease_risk - only binary classification"
   ]
  },
  {
   "cell_type": "code",
   "execution_count": 37,
   "metadata": {},
   "outputs": [],
   "source": [
    "\n",
    "convLayer1 = layers.Conv3DLayer(filters=6, kernel_size=(5, 5), stride=1)\n",
    "tanhLayer1 = layers.TanhLayer()\n",
    "poolingLayer1 = layers.PoolingLayer(2, 2)\n",
    "convLayer2 = layers.Conv3DLayer(filters=16, kernel_size=(5, 5), stride=1)\n",
    "tanhLayer2 = layers.TanhLayer()\n",
    "poolingLayer2 = layers.PoolingLayer(2, 2)\n",
    "flattenLayer = layers.FlattenLayer()\n",
    "fcLayer3 = layers.FullyConnectedLayer(2400, 120, xavier_init = True)\n",
    "dropoutLayer3 = layers.DropoutLayer(0.9)\n",
    "tanhLayer3 = layers.TanhLayer()\n",
    "fcLayer4 = layers.FullyConnectedLayer(120, 84, xavier_init = True)\n",
    "dropoutLayer4 = layers.DropoutLayer(0.8)\n",
    "tanhLayer4 = layers.TanhLayer()\n",
    "fcLayer5 = layers.FullyConnectedLayer(84, 10, xavier_init = True)\n",
    "softmaxLayer = layers.SoftmaxLayer()\n",
    "crossEntropyLoss = layers.CrossEntropy()\n",
    "rfmd_layers = [convLayer1, tanhLayer1, poolingLayer1,\n",
    "        convLayer2, tanhLayer2, poolingLayer2, flattenLayer, \n",
    "        fcLayer3, tanhLayer3, \n",
    "        fcLayer4, tanhLayer4, \n",
    "        fcLayer5, softmaxLayer, crossEntropyLoss]\n",
    "\n",
    "rfmd_layers_test = [convLayer1, tanhLayer1, poolingLayer1, flattenLayer, fcLayer5, softmaxLayer, crossEntropyLoss]"
   ]
  },
  {
   "cell_type": "code",
   "execution_count": 38,
   "metadata": {},
   "outputs": [
    {
     "name": "stderr",
     "output_type": "stream",
     "text": [
      "\n",
      "\n",
      "\n",
      "\n",
      "\n",
      "\n",
      "\n",
      "\u001b[A\u001b[A\u001b[A\u001b[A\u001b[A\u001b[A\u001b[A\n",
      "\n",
      "\n",
      "\n",
      "\n",
      "\n",
      "\n",
      "\n",
      "\u001b[A\u001b[A\u001b[A\u001b[A\u001b[A\u001b[A\u001b[A\u001b[A\n",
      "\n",
      "\n",
      "\n",
      "\n",
      "\n",
      "\n",
      "\n",
      "\u001b[A\u001b[A\u001b[A\u001b[A\u001b[A\u001b[A\u001b[A\u001b[A\n",
      "\n",
      "\n",
      "\n",
      "\n",
      "\n",
      "\n",
      "\n",
      "\u001b[A\u001b[A\u001b[A\u001b[A\u001b[A\u001b[A\u001b[A\u001b[A"
     ]
    },
    {
     "ename": "ValueError",
     "evalue": "negative dimensions are not allowed",
     "output_type": "error",
     "traceback": [
      "\u001b[1;31m---------------------------------------------------------------------------\u001b[0m",
      "\u001b[1;31mValueError\u001b[0m                                Traceback (most recent call last)",
      "Cell \u001b[1;32mIn[38], line 1\u001b[0m\n\u001b[1;32m----> 1\u001b[0m util\u001b[39m.\u001b[39;49mtrain_model(rfmd_layers_test, X_train_img, Y_train, X_test_img, Y_test, \u001b[39m\"\u001b[39;49m\u001b[39mrmfd_model\u001b[39;49m\u001b[39m\"\u001b[39;49m, \n\u001b[0;32m      2\u001b[0m                  learning_rate \u001b[39m=\u001b[39;49m \u001b[39m0.0001\u001b[39;49m, \n\u001b[0;32m      3\u001b[0m                  max_epochs \u001b[39m=\u001b[39;49m \u001b[39m5\u001b[39;49m, \n\u001b[0;32m      4\u001b[0m                  batch_size \u001b[39m=\u001b[39;49m \u001b[39m1\u001b[39;49m,\n\u001b[0;32m      5\u001b[0m                  condition \u001b[39m=\u001b[39;49m \u001b[39m10e-10\u001b[39;49m,\n\u001b[0;32m      6\u001b[0m                  skip_first_layer\u001b[39m=\u001b[39;49m\u001b[39mFalse\u001b[39;49;00m)\n",
      "File \u001b[1;32mc:\\Users\\JS\\Documents\\Winter 22 Quarter\\CS615\\Project\\rfmd\\code\\test_code\\src\\util.py:94\u001b[0m, in \u001b[0;36mtrain_model\u001b[1;34m(layers_, X_train, Y_train, X_val, Y_val, filename, learning_rate, max_epochs, batch_size, condition, skip_first_layer)\u001b[0m\n\u001b[0;32m     91\u001b[0m Y_batch \u001b[39m=\u001b[39m Y_train[i:i\u001b[39m+\u001b[39mbatch_size]\n\u001b[0;32m     93\u001b[0m \u001b[39m# perform forward propagation\u001b[39;00m\n\u001b[1;32m---> 94\u001b[0m h \u001b[39m=\u001b[39m forward(layers_, X_batch, test\u001b[39m=\u001b[39;49m\u001b[39mFalse\u001b[39;49;00m, epoch\u001b[39m=\u001b[39;49mepoch)\n\u001b[0;32m     96\u001b[0m \u001b[39m# perform backwards propagation, updating weights\u001b[39;00m\n\u001b[0;32m     97\u001b[0m \u001b[39mif\u001b[39;00m skip_first_layer:\n",
      "File \u001b[1;32mc:\\Users\\JS\\Documents\\Winter 22 Quarter\\CS615\\Project\\rfmd\\code\\test_code\\src\\util.py:67\u001b[0m, in \u001b[0;36mforward\u001b[1;34m(_layers, X, test, epoch)\u001b[0m\n\u001b[0;32m     65\u001b[0m         h \u001b[39m=\u001b[39m _layers[i]\u001b[39m.\u001b[39mforward(h, test, epoch)\n\u001b[0;32m     66\u001b[0m     \u001b[39melse\u001b[39;00m:\n\u001b[1;32m---> 67\u001b[0m         h \u001b[39m=\u001b[39m _layers[i]\u001b[39m.\u001b[39;49mforward(h)\n\u001b[0;32m     68\u001b[0m y_hat \u001b[39m=\u001b[39m h\n\u001b[0;32m     69\u001b[0m \u001b[39mreturn\u001b[39;00m y_hat\n",
      "File \u001b[1;32mc:\\Users\\JS\\Documents\\Winter 22 Quarter\\CS615\\Project\\rfmd\\code\\test_code\\src\\layers.py:249\u001b[0m, in \u001b[0;36mConv2DLayer.forward\u001b[1;34m(self, dataIn)\u001b[0m\n\u001b[0;32m    247\u001b[0m \u001b[39mdef\u001b[39;00m \u001b[39mforward\u001b[39m(\u001b[39mself\u001b[39m,dataIn):\n\u001b[0;32m    248\u001b[0m     \u001b[39mself\u001b[39m\u001b[39m.\u001b[39msetPrevIn(dataIn)\n\u001b[1;32m--> 249\u001b[0m     \u001b[39mself\u001b[39m\u001b[39m.\u001b[39msetPrevOut(\u001b[39mself\u001b[39;49m\u001b[39m.\u001b[39;49mconvolve(dataIn, \u001b[39mself\u001b[39;49m\u001b[39m.\u001b[39;49mkernel, \u001b[39mself\u001b[39;49m\u001b[39m.\u001b[39;49mpadding, \u001b[39mself\u001b[39;49m\u001b[39m.\u001b[39;49mstride))\n\u001b[0;32m    250\u001b[0m     \u001b[39mreturn\u001b[39;00m \u001b[39mself\u001b[39m\u001b[39m.\u001b[39mgetPrevOut()\n",
      "File \u001b[1;32mc:\\Users\\JS\\Documents\\Winter 22 Quarter\\CS615\\Project\\rfmd\\code\\test_code\\src\\layers.py:305\u001b[0m, in \u001b[0;36mConv3DLayer.convolve\u001b[1;34m(self, dataIn, kernel, padding, stride)\u001b[0m\n\u001b[0;32m    304\u001b[0m \u001b[39mdef\u001b[39;00m \u001b[39mconvolve\u001b[39m(\u001b[39mself\u001b[39m, dataIn, kernel, padding, stride):\n\u001b[1;32m--> 305\u001b[0m     \u001b[39mreturn\u001b[39;00m np\u001b[39m.\u001b[39marray([\u001b[39mself\u001b[39m\u001b[39m.\u001b[39mconvolve3D(dataIn_i, kernel, padding, stride) \u001b[39mfor\u001b[39;00m dataIn_i \u001b[39min\u001b[39;00m dataIn])\n",
      "File \u001b[1;32mc:\\Users\\JS\\Documents\\Winter 22 Quarter\\CS615\\Project\\rfmd\\code\\test_code\\src\\layers.py:305\u001b[0m, in \u001b[0;36m<listcomp>\u001b[1;34m(.0)\u001b[0m\n\u001b[0;32m    304\u001b[0m \u001b[39mdef\u001b[39;00m \u001b[39mconvolve\u001b[39m(\u001b[39mself\u001b[39m, dataIn, kernel, padding, stride):\n\u001b[1;32m--> 305\u001b[0m     \u001b[39mreturn\u001b[39;00m np\u001b[39m.\u001b[39marray([\u001b[39mself\u001b[39;49m\u001b[39m.\u001b[39;49mconvolve3D(dataIn_i, kernel, padding, stride) \u001b[39mfor\u001b[39;00m dataIn_i \u001b[39min\u001b[39;00m dataIn])\n",
      "File \u001b[1;32mc:\\Users\\JS\\Documents\\Winter 22 Quarter\\CS615\\Project\\rfmd\\code\\test_code\\src\\layers.py:308\u001b[0m, in \u001b[0;36mConv3DLayer.convolve3D\u001b[1;34m(self, dataIn, kernel, padding, stride)\u001b[0m\n\u001b[0;32m    307\u001b[0m \u001b[39mdef\u001b[39;00m \u001b[39mconvolve3D\u001b[39m(\u001b[39mself\u001b[39m, dataIn, kernel, padding, stride):\n\u001b[1;32m--> 308\u001b[0m     arr \u001b[39m=\u001b[39m np\u001b[39m.\u001b[39marray([[\u001b[39mself\u001b[39m\u001b[39m.\u001b[39mconvolve2D(dataIn_i, kernel_i, padding, stride) \u001b[39mfor\u001b[39;00m kernel_i \u001b[39min\u001b[39;00m kernel] \u001b[39mfor\u001b[39;00m dataIn_i \u001b[39min\u001b[39;00m dataIn])\n\u001b[0;32m    309\u001b[0m     \u001b[39mreturn\u001b[39;00m arr\u001b[39m.\u001b[39mreshape(\u001b[39m-\u001b[39m\u001b[39m1\u001b[39m, arr\u001b[39m.\u001b[39mshape[\u001b[39m-\u001b[39m\u001b[39m2\u001b[39m], arr\u001b[39m.\u001b[39mshape[\u001b[39m-\u001b[39m\u001b[39m1\u001b[39m])\n",
      "File \u001b[1;32mc:\\Users\\JS\\Documents\\Winter 22 Quarter\\CS615\\Project\\rfmd\\code\\test_code\\src\\layers.py:308\u001b[0m, in \u001b[0;36m<listcomp>\u001b[1;34m(.0)\u001b[0m\n\u001b[0;32m    307\u001b[0m \u001b[39mdef\u001b[39;00m \u001b[39mconvolve3D\u001b[39m(\u001b[39mself\u001b[39m, dataIn, kernel, padding, stride):\n\u001b[1;32m--> 308\u001b[0m     arr \u001b[39m=\u001b[39m np\u001b[39m.\u001b[39marray([[\u001b[39mself\u001b[39m\u001b[39m.\u001b[39mconvolve2D(dataIn_i, kernel_i, padding, stride) \u001b[39mfor\u001b[39;00m kernel_i \u001b[39min\u001b[39;00m kernel] \u001b[39mfor\u001b[39;00m dataIn_i \u001b[39min\u001b[39;00m dataIn])\n\u001b[0;32m    309\u001b[0m     \u001b[39mreturn\u001b[39;00m arr\u001b[39m.\u001b[39mreshape(\u001b[39m-\u001b[39m\u001b[39m1\u001b[39m, arr\u001b[39m.\u001b[39mshape[\u001b[39m-\u001b[39m\u001b[39m2\u001b[39m], arr\u001b[39m.\u001b[39mshape[\u001b[39m-\u001b[39m\u001b[39m1\u001b[39m])\n",
      "File \u001b[1;32mc:\\Users\\JS\\Documents\\Winter 22 Quarter\\CS615\\Project\\rfmd\\code\\test_code\\src\\layers.py:308\u001b[0m, in \u001b[0;36m<listcomp>\u001b[1;34m(.0)\u001b[0m\n\u001b[0;32m    307\u001b[0m \u001b[39mdef\u001b[39;00m \u001b[39mconvolve3D\u001b[39m(\u001b[39mself\u001b[39m, dataIn, kernel, padding, stride):\n\u001b[1;32m--> 308\u001b[0m     arr \u001b[39m=\u001b[39m np\u001b[39m.\u001b[39marray([[\u001b[39mself\u001b[39;49m\u001b[39m.\u001b[39;49mconvolve2D(dataIn_i, kernel_i, padding, stride) \u001b[39mfor\u001b[39;00m kernel_i \u001b[39min\u001b[39;00m kernel] \u001b[39mfor\u001b[39;00m dataIn_i \u001b[39min\u001b[39;00m dataIn])\n\u001b[0;32m    309\u001b[0m     \u001b[39mreturn\u001b[39;00m arr\u001b[39m.\u001b[39mreshape(\u001b[39m-\u001b[39m\u001b[39m1\u001b[39m, arr\u001b[39m.\u001b[39mshape[\u001b[39m-\u001b[39m\u001b[39m2\u001b[39m], arr\u001b[39m.\u001b[39mshape[\u001b[39m-\u001b[39m\u001b[39m1\u001b[39m])\n",
      "File \u001b[1;32mc:\\Users\\JS\\Documents\\Winter 22 Quarter\\CS615\\Project\\rfmd\\code\\test_code\\src\\layers.py:263\u001b[0m, in \u001b[0;36mConv2DLayer.convolve2D\u001b[1;34m(self, dataIn, kernel, padding, stride)\u001b[0m\n\u001b[0;32m    261\u001b[0m outputWidth \u001b[39m=\u001b[39m \u001b[39mint\u001b[39m(((dataWidth \u001b[39m-\u001b[39m kernelWidth \u001b[39m+\u001b[39m \u001b[39m2\u001b[39m \u001b[39m*\u001b[39m padding) \u001b[39m/\u001b[39m stride) \u001b[39m+\u001b[39m \u001b[39m1\u001b[39m)\n\u001b[0;32m    262\u001b[0m outputHeight \u001b[39m=\u001b[39m \u001b[39mint\u001b[39m(((dataHeight \u001b[39m-\u001b[39m kernelHeight \u001b[39m+\u001b[39m \u001b[39m2\u001b[39m \u001b[39m*\u001b[39m padding) \u001b[39m/\u001b[39m stride) \u001b[39m+\u001b[39m \u001b[39m1\u001b[39m)\n\u001b[1;32m--> 263\u001b[0m output \u001b[39m=\u001b[39m np\u001b[39m.\u001b[39;49mzeros((outputHeight, outputWidth))\n\u001b[0;32m    265\u001b[0m \u001b[39mif\u001b[39;00m padding \u001b[39m!=\u001b[39m \u001b[39m0\u001b[39m:\n\u001b[0;32m    266\u001b[0m     dataInPadded \u001b[39m=\u001b[39m np\u001b[39m.\u001b[39mzeros((dataIn\u001b[39m.\u001b[39mshape[\u001b[39m0\u001b[39m] \u001b[39m+\u001b[39m padding\u001b[39m*\u001b[39m\u001b[39m2\u001b[39m, dataIn\u001b[39m.\u001b[39mshape[\u001b[39m1\u001b[39m] \u001b[39m+\u001b[39m padding\u001b[39m*\u001b[39m\u001b[39m2\u001b[39m))\n",
      "\u001b[1;31mValueError\u001b[0m: negative dimensions are not allowed"
     ]
    }
   ],
   "source": [
    "util.train_model(rfmd_layers_test, X_train_img, Y_train, X_test_img, Y_test, \"rmfd_model\", \n",
    "                 learning_rate = 0.0001, \n",
    "                 max_epochs = 5, \n",
    "                 batch_size = 1,\n",
    "                 condition = 10e-10,\n",
    "                 skip_first_layer=False)"
   ]
  }
 ],
 "metadata": {
  "kernelspec": {
   "display_name": "Python 3",
   "language": "python",
   "name": "python3"
  },
  "language_info": {
   "codemirror_mode": {
    "name": "ipython",
    "version": 3
   },
   "file_extension": ".py",
   "mimetype": "text/x-python",
   "name": "python",
   "nbconvert_exporter": "python",
   "pygments_lexer": "ipython3",
   "version": "3.10.7"
  },
  "orig_nbformat": 4
 },
 "nbformat": 4,
 "nbformat_minor": 2
}
